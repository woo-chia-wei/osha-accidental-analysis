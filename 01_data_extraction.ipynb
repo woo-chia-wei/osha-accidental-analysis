{
 "cells": [
  {
   "cell_type": "markdown",
   "metadata": {},
   "source": [
    "## Import packages"
   ]
  },
  {
   "cell_type": "code",
   "execution_count": 1,
   "metadata": {
    "collapsed": true
   },
   "outputs": [],
   "source": [
    "import pandas as pd\n",
    "import os"
   ]
  },
  {
   "cell_type": "markdown",
   "metadata": {},
   "source": [
    "## Import OSHA data\n",
    "The imported data contains:\n",
    "* Case Id \n",
    "* Title / summary of accident\n",
    "* Description of accident\n",
    "* Keywords/ tags of important words to be highlighted\n",
    "* Victims' information"
   ]
  },
  {
   "cell_type": "code",
   "execution_count": 2,
   "metadata": {
    "scrolled": true
   },
   "outputs": [
    {
     "data": {
      "text/html": [
       "<div>\n",
       "<style>\n",
       "    .dataframe thead tr:only-child th {\n",
       "        text-align: right;\n",
       "    }\n",
       "\n",
       "    .dataframe thead th {\n",
       "        text-align: left;\n",
       "    }\n",
       "\n",
       "    .dataframe tbody tr th {\n",
       "        vertical-align: top;\n",
       "    }\n",
       "</style>\n",
       "<table border=\"1\" class=\"dataframe\">\n",
       "  <thead>\n",
       "    <tr style=\"text-align: right;\">\n",
       "      <th></th>\n",
       "      <th>title</th>\n",
       "      <th>description</th>\n",
       "      <th>keywords</th>\n",
       "      <th>victims</th>\n",
       "    </tr>\n",
       "    <tr>\n",
       "      <th>case_id</th>\n",
       "      <th></th>\n",
       "      <th></th>\n",
       "      <th></th>\n",
       "      <th></th>\n",
       "    </tr>\n",
       "  </thead>\n",
       "  <tbody>\n",
       "    <tr>\n",
       "      <th>202561825</th>\n",
       "      <td>Employee Falls From Flatbed Trailer And Later...</td>\n",
       "      <td>On August 30  2013  Employee #1 was working f...</td>\n",
       "      <td>truck  flatbed truck  trailer  fall  abdomen</td>\n",
       "      <td></td>\n",
       "    </tr>\n",
       "    <tr>\n",
       "      <th>200361855</th>\n",
       "      <td>Two Workers Are Struck By Motor Vehicle And O...</td>\n",
       "      <td>On August 27  2013  Employees #1 and #2  of T...</td>\n",
       "      <td>construction  undrgrd power line  highway ...</td>\n",
       "      <td>1 317290559   Fatality Other Occupation not re...</td>\n",
       "    </tr>\n",
       "    <tr>\n",
       "      <th>200361863</th>\n",
       "      <td>Employee Is Struck By Bales Of Wire And Killed</td>\n",
       "      <td>On August 26  2013  Employee #1  with Lee Iro...</td>\n",
       "      <td>waste proc fac  industrial truck  struck b...</td>\n",
       "      <td></td>\n",
       "    </tr>\n",
       "    <tr>\n",
       "      <th>201079324</th>\n",
       "      <td>Employee Is Splashed With Hot Water And Is Bu...</td>\n",
       "      <td>On July 14  2013  Employee #1  vacuum pump tr...</td>\n",
       "      <td>truck driver  pump  tank  hot water  struc...</td>\n",
       "      <td></td>\n",
       "    </tr>\n",
       "    <tr>\n",
       "      <th>202658258</th>\n",
       "      <td>Employee Suffers Burns While Moving Soup</td>\n",
       "      <td>On June 30  2013  Employee #1 was working in ...</td>\n",
       "      <td>burn  spill  arm  chest  abdomen</td>\n",
       "      <td></td>\n",
       "    </tr>\n",
       "  </tbody>\n",
       "</table>\n",
       "</div>"
      ],
      "text/plain": [
       "                                                       title  \\\n",
       "case_id                                                        \n",
       "202561825   Employee Falls From Flatbed Trailer And Later...   \n",
       "200361855   Two Workers Are Struck By Motor Vehicle And O...   \n",
       "200361863    Employee Is Struck By Bales Of Wire And Killed    \n",
       "201079324   Employee Is Splashed With Hot Water And Is Bu...   \n",
       "202658258          Employee Suffers Burns While Moving Soup    \n",
       "\n",
       "                                                 description  \\\n",
       "case_id                                                        \n",
       "202561825   On August 30  2013  Employee #1 was working f...   \n",
       "200361855   On August 27  2013  Employees #1 and #2  of T...   \n",
       "200361863   On August 26  2013  Employee #1  with Lee Iro...   \n",
       "201079324   On July 14  2013  Employee #1  vacuum pump tr...   \n",
       "202658258   On June 30  2013  Employee #1 was working in ...   \n",
       "\n",
       "                                                    keywords  \\\n",
       "case_id                                                        \n",
       "202561825      truck  flatbed truck  trailer  fall  abdomen    \n",
       "200361855      construction  undrgrd power line  highway ...   \n",
       "200361863      waste proc fac  industrial truck  struck b...   \n",
       "201079324      truck driver  pump  tank  hot water  struc...   \n",
       "202658258                  burn  spill  arm  chest  abdomen    \n",
       "\n",
       "                                                     victims  \n",
       "case_id                                                       \n",
       "202561825                                                     \n",
       "200361855  1 317290559   Fatality Other Occupation not re...  \n",
       "200361863                                                     \n",
       "201079324                                                     \n",
       "202658258                                                     "
      ]
     },
     "execution_count": 2,
     "metadata": {},
     "output_type": "execute_result"
    }
   ],
   "source": [
    "osha_filename = os.path.join(os.getcwd(), 'input_data', 'osha.xlsx')\n",
    "df = pd.read_excel(osha_filename, names=['case_id', 'title', 'description', 'keywords', 'victims'])\n",
    "df = df.set_index('case_id', drop=True)\n",
    "df.head()"
   ]
  },
  {
   "cell_type": "code",
   "execution_count": 3,
   "metadata": {},
   "outputs": [
    {
     "data": {
      "text/html": [
       "<div>\n",
       "<style>\n",
       "    .dataframe thead tr:only-child th {\n",
       "        text-align: right;\n",
       "    }\n",
       "\n",
       "    .dataframe thead th {\n",
       "        text-align: left;\n",
       "    }\n",
       "\n",
       "    .dataframe tbody tr th {\n",
       "        vertical-align: top;\n",
       "    }\n",
       "</style>\n",
       "<table border=\"1\" class=\"dataframe\">\n",
       "  <thead>\n",
       "    <tr style=\"text-align: right;\">\n",
       "      <th></th>\n",
       "      <th>title</th>\n",
       "      <th>description</th>\n",
       "      <th>keywords</th>\n",
       "      <th>victims</th>\n",
       "    </tr>\n",
       "  </thead>\n",
       "  <tbody>\n",
       "    <tr>\n",
       "      <th>count</th>\n",
       "      <td>16322</td>\n",
       "      <td>16322</td>\n",
       "      <td>16322</td>\n",
       "      <td>16322</td>\n",
       "    </tr>\n",
       "    <tr>\n",
       "      <th>unique</th>\n",
       "      <td>14709</td>\n",
       "      <td>15962</td>\n",
       "      <td>16257</td>\n",
       "      <td>4902</td>\n",
       "    </tr>\n",
       "    <tr>\n",
       "      <th>top</th>\n",
       "      <td>Electric Shock</td>\n",
       "      <td>InspectionOpen DateSICEstablishment Name</td>\n",
       "      <td>legionnaires disease  infectious disease  ...</td>\n",
       "      <td></td>\n",
       "    </tr>\n",
       "    <tr>\n",
       "      <th>freq</th>\n",
       "      <td>558</td>\n",
       "      <td>356</td>\n",
       "      <td>5</td>\n",
       "      <td>11419</td>\n",
       "    </tr>\n",
       "  </tbody>\n",
       "</table>\n",
       "</div>"
      ],
      "text/plain": [
       "                   title                               description  \\\n",
       "count              16322                                     16322   \n",
       "unique             14709                                     15962   \n",
       "top      Electric Shock   InspectionOpen DateSICEstablishment Name   \n",
       "freq                 558                                       356   \n",
       "\n",
       "                                                 keywords victims  \n",
       "count                                               16322   16322  \n",
       "unique                                              16257    4902  \n",
       "top         legionnaires disease  infectious disease  ...          \n",
       "freq                                                    5   11419  "
      ]
     },
     "execution_count": 3,
     "metadata": {},
     "output_type": "execute_result"
    }
   ],
   "source": [
    "df.describe()"
   ]
  },
  {
   "cell_type": "markdown",
   "metadata": {},
   "source": [
    "## Remove invalid data\n",
    "* For those records with description = 'InspectionOpen DateSICEstablishment Name'"
   ]
  },
  {
   "cell_type": "code",
   "execution_count": 4,
   "metadata": {},
   "outputs": [
    {
     "data": {
      "text/html": [
       "<div>\n",
       "<style>\n",
       "    .dataframe thead tr:only-child th {\n",
       "        text-align: right;\n",
       "    }\n",
       "\n",
       "    .dataframe thead th {\n",
       "        text-align: left;\n",
       "    }\n",
       "\n",
       "    .dataframe tbody tr th {\n",
       "        vertical-align: top;\n",
       "    }\n",
       "</style>\n",
       "<table border=\"1\" class=\"dataframe\">\n",
       "  <thead>\n",
       "    <tr style=\"text-align: right;\">\n",
       "      <th></th>\n",
       "      <th>title</th>\n",
       "      <th>description</th>\n",
       "      <th>keywords</th>\n",
       "      <th>victims</th>\n",
       "    </tr>\n",
       "    <tr>\n",
       "      <th>case_id</th>\n",
       "      <th></th>\n",
       "      <th></th>\n",
       "      <th></th>\n",
       "      <th></th>\n",
       "    </tr>\n",
       "  </thead>\n",
       "  <tbody>\n",
       "    <tr>\n",
       "      <th>202561825</th>\n",
       "      <td>Employee Falls From Flatbed Trailer And Later...</td>\n",
       "      <td>On August 30  2013  Employee #1 was working f...</td>\n",
       "      <td>truck  flatbed truck  trailer  fall  abdomen</td>\n",
       "      <td></td>\n",
       "    </tr>\n",
       "    <tr>\n",
       "      <th>200361855</th>\n",
       "      <td>Two Workers Are Struck By Motor Vehicle And O...</td>\n",
       "      <td>On August 27  2013  Employees #1 and #2  of T...</td>\n",
       "      <td>construction  undrgrd power line  highway ...</td>\n",
       "      <td>1 317290559   Fatality Other Occupation not re...</td>\n",
       "    </tr>\n",
       "    <tr>\n",
       "      <th>200361863</th>\n",
       "      <td>Employee Is Struck By Bales Of Wire And Killed</td>\n",
       "      <td>On August 26  2013  Employee #1  with Lee Iro...</td>\n",
       "      <td>waste proc fac  industrial truck  struck b...</td>\n",
       "      <td></td>\n",
       "    </tr>\n",
       "    <tr>\n",
       "      <th>201079324</th>\n",
       "      <td>Employee Is Splashed With Hot Water And Is Bu...</td>\n",
       "      <td>On July 14  2013  Employee #1  vacuum pump tr...</td>\n",
       "      <td>truck driver  pump  tank  hot water  struc...</td>\n",
       "      <td></td>\n",
       "    </tr>\n",
       "    <tr>\n",
       "      <th>202658258</th>\n",
       "      <td>Employee Suffers Burns While Moving Soup</td>\n",
       "      <td>On June 30  2013  Employee #1 was working in ...</td>\n",
       "      <td>burn  spill  arm  chest  abdomen</td>\n",
       "      <td></td>\n",
       "    </tr>\n",
       "  </tbody>\n",
       "</table>\n",
       "</div>"
      ],
      "text/plain": [
       "                                                       title  \\\n",
       "case_id                                                        \n",
       "202561825   Employee Falls From Flatbed Trailer And Later...   \n",
       "200361855   Two Workers Are Struck By Motor Vehicle And O...   \n",
       "200361863    Employee Is Struck By Bales Of Wire And Killed    \n",
       "201079324   Employee Is Splashed With Hot Water And Is Bu...   \n",
       "202658258          Employee Suffers Burns While Moving Soup    \n",
       "\n",
       "                                                 description  \\\n",
       "case_id                                                        \n",
       "202561825   On August 30  2013  Employee #1 was working f...   \n",
       "200361855   On August 27  2013  Employees #1 and #2  of T...   \n",
       "200361863   On August 26  2013  Employee #1  with Lee Iro...   \n",
       "201079324   On July 14  2013  Employee #1  vacuum pump tr...   \n",
       "202658258   On June 30  2013  Employee #1 was working in ...   \n",
       "\n",
       "                                                    keywords  \\\n",
       "case_id                                                        \n",
       "202561825      truck  flatbed truck  trailer  fall  abdomen    \n",
       "200361855      construction  undrgrd power line  highway ...   \n",
       "200361863      waste proc fac  industrial truck  struck b...   \n",
       "201079324      truck driver  pump  tank  hot water  struc...   \n",
       "202658258                  burn  spill  arm  chest  abdomen    \n",
       "\n",
       "                                                     victims  \n",
       "case_id                                                       \n",
       "202561825                                                     \n",
       "200361855  1 317290559   Fatality Other Occupation not re...  \n",
       "200361863                                                     \n",
       "201079324                                                     \n",
       "202658258                                                     "
      ]
     },
     "execution_count": 4,
     "metadata": {},
     "output_type": "execute_result"
    }
   ],
   "source": [
    "incomplete = df['description'].str.lower().str.contains('InspectionOpen DateSICEstablishment Name'.lower())\n",
    "df = df[~incomplete]\n",
    "df.head()"
   ]
  },
  {
   "cell_type": "code",
   "execution_count": 5,
   "metadata": {},
   "outputs": [
    {
     "data": {
      "text/html": [
       "<div>\n",
       "<style>\n",
       "    .dataframe thead tr:only-child th {\n",
       "        text-align: right;\n",
       "    }\n",
       "\n",
       "    .dataframe thead th {\n",
       "        text-align: left;\n",
       "    }\n",
       "\n",
       "    .dataframe tbody tr th {\n",
       "        vertical-align: top;\n",
       "    }\n",
       "</style>\n",
       "<table border=\"1\" class=\"dataframe\">\n",
       "  <thead>\n",
       "    <tr style=\"text-align: right;\">\n",
       "      <th></th>\n",
       "      <th>title</th>\n",
       "      <th>description</th>\n",
       "      <th>keywords</th>\n",
       "      <th>victims</th>\n",
       "    </tr>\n",
       "  </thead>\n",
       "  <tbody>\n",
       "    <tr>\n",
       "      <th>count</th>\n",
       "      <td>15966</td>\n",
       "      <td>15966</td>\n",
       "      <td>15966</td>\n",
       "      <td>15966</td>\n",
       "    </tr>\n",
       "    <tr>\n",
       "      <th>unique</th>\n",
       "      <td>14396</td>\n",
       "      <td>15961</td>\n",
       "      <td>15902</td>\n",
       "      <td>4548</td>\n",
       "    </tr>\n",
       "    <tr>\n",
       "      <th>top</th>\n",
       "      <td>Electric Shock</td>\n",
       "      <td>An employee was delivering a load of small di...</td>\n",
       "      <td>legionnaires disease  infectious disease  ...</td>\n",
       "      <td></td>\n",
       "    </tr>\n",
       "    <tr>\n",
       "      <th>freq</th>\n",
       "      <td>539</td>\n",
       "      <td>2</td>\n",
       "      <td>5</td>\n",
       "      <td>11419</td>\n",
       "    </tr>\n",
       "  </tbody>\n",
       "</table>\n",
       "</div>"
      ],
      "text/plain": [
       "                   title                                        description  \\\n",
       "count              15966                                              15966   \n",
       "unique             14396                                              15961   \n",
       "top      Electric Shock    An employee was delivering a load of small di...   \n",
       "freq                 539                                                  2   \n",
       "\n",
       "                                                 keywords victims  \n",
       "count                                               15966   15966  \n",
       "unique                                              15902    4548  \n",
       "top         legionnaires disease  infectious disease  ...          \n",
       "freq                                                    5   11419  "
      ]
     },
     "execution_count": 5,
     "metadata": {},
     "output_type": "execute_result"
    }
   ],
   "source": [
    "df.describe()"
   ]
  },
  {
   "cell_type": "markdown",
   "metadata": {},
   "source": [
    "## Export data to csv"
   ]
  },
  {
   "cell_type": "code",
   "execution_count": 6,
   "metadata": {},
   "outputs": [
    {
     "name": "stdout",
     "output_type": "stream",
     "text": [
      "Exported to C:\\Users\\Woo\\Desktop\\Local - Text Mining Group Assignment\\Source Code\\output_data\\01_data_extraction_final.csv\n"
     ]
    }
   ],
   "source": [
    "export_file = os.path.join(os.getcwd(), 'output_data', '01_data_extraction_final.csv')\n",
    "df.to_csv(export_file)\n",
    "print('Exported to ' + export_file)"
   ]
  }
 ],
 "metadata": {
  "kernelspec": {
   "display_name": "Python 3",
   "language": "python",
   "name": "python3"
  },
  "language_info": {
   "codemirror_mode": {
    "name": "ipython",
    "version": 3
   },
   "file_extension": ".py",
   "mimetype": "text/x-python",
   "name": "python",
   "nbconvert_exporter": "python",
   "pygments_lexer": "ipython3",
   "version": "3.6.1"
  }
 },
 "nbformat": 4,
 "nbformat_minor": 2
}
